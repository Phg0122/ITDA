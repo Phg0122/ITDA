{
  "nbformat": 4,
  "nbformat_minor": 0,
  "metadata": {
    "colab": {
      "provenance": []
    },
    "kernelspec": {
      "name": "python3",
      "display_name": "Python 3"
    },
    "language_info": {
      "name": "python"
    }
  },
  "cells": [
    {
      "cell_type": "markdown",
      "source": [
        "#2.퍼셉트론\n"
      ],
      "metadata": {
        "id": "zgdLIOu_c-KR"
      }
    },
    {
      "cell_type": "markdown",
      "source": [
        "퍼셉트론:프랑크 로젠블라트가 고안한 신경망(딥러닝)의 기원이 되는 알고리즘"
      ],
      "metadata": {
        "id": "LMty0ZP-dFcB"
      }
    },
    {
      "cell_type": "markdown",
      "source": [
        "##2.1 퍼셉트론이란?\n"
      ],
      "metadata": {
        "id": "vvW5JYRjdWzp"
      }
    },
    {
      "cell_type": "markdown",
      "source": [
        "\n",
        "\n",
        "*   다수의 신호를 입역받아 하나의 신호를 출력함\n",
        "*   입력신호가 뉴런(노드)에 보내질 때 각각 고유한 가중치가 곱해짐\n",
        "*   뉴런(노드)에서 보내온 신호의 총합이 정해진 한계를 넘어설 때만 1을 출력함(이것을 뉴런을 활성화한다라고 표현하기도 함)\n",
        "*   가중치는 각 신호가 결과의 주는 영향력을 조절하는 요소로 작용함(가중치가 클수록 해당 신호가 중요함\n",
        "\n",
        "\n",
        "\n"
      ],
      "metadata": {
        "id": "886Vr-H1dcLp"
      }
    },
    {
      "cell_type": "markdown",
      "source": [
        "##2.2 단순한 논리회로"
      ],
      "metadata": {
        "id": "B6Zf2fwWfssN"
      }
    },
    {
      "cell_type": "markdown",
      "source": [
        "**AND게이트**\n",
        "\n",
        "*   입력은 2개 출력은 1개\n",
        "*   둘 다 1일때만 1을 나머지는 다 0을 출력함\n",
        "\n"
      ],
      "metadata": {
        "id": "RVam8TQoeZos"
      }
    },
    {
      "cell_type": "markdown",
      "source": [
        "**NAND 게이트**\n",
        "\n",
        "*   AND 게이트의 반대임\n",
        "*   둘 다 1일때만 0을 나머지는 다 1을 출력함\n",
        "*   AND게이트의 매개변수의 부호를 반전하면 NAND게이트임\n",
        "\n",
        "\n",
        "\n",
        "\n",
        "\n"
      ],
      "metadata": {
        "id": "J2gLTpCqe_Wy"
      }
    },
    {
      "cell_type": "markdown",
      "source": [
        "**OR게이트**\n",
        "\n",
        "*   둘 다 0일때만 0을 나머지는 다 1을 출력함\n",
        "\n",
        "\n"
      ],
      "metadata": {
        "id": "sXWkrhoreShU"
      }
    },
    {
      "cell_type": "markdown",
      "source": [
        "**매개변수**\n",
        "\n",
        "*   매개변수는 인간이 설정해줌\n",
        "*   기계학습 문제는 매개변수 값을 정하는 작업을 컴퓨터가 자동으로 하게 하는 것\n"
      ],
      "metadata": {
        "id": "9IHbIoQzgJGV"
      }
    },
    {
      "cell_type": "markdown",
      "source": [
        "##2.3 퍼셉트론 구현하기"
      ],
      "metadata": {
        "id": "Rk68UvbVgbza"
      }
    },
    {
      "cell_type": "markdown",
      "source": [
        "**간단한 구현부터**"
      ],
      "metadata": {
        "id": "o0s6QFX4hhnL"
      }
    },
    {
      "cell_type": "code",
      "source": [
        "def AND(x1, x2):\n",
        "  w1,w2, theta=0.5,0.5,0.7\n",
        "  tmp=x1*w1+x2*w2\n",
        "  if tmp<=theta:\n",
        "    return 0\n",
        "  elif tmp>theta:\n",
        "    return 1"
      ],
      "metadata": {
        "id": "G7VQnen7hkXy"
      },
      "execution_count": 1,
      "outputs": []
    },
    {
      "cell_type": "code",
      "source": [
        "print(AND(0,0)) \n",
        "print(AND(1,0))\n",
        "print(AND(0,1))\n",
        "print(AND(1,1))"
      ],
      "metadata": {
        "colab": {
          "base_uri": "https://localhost:8080/"
        },
        "id": "bsPRXe1neRh7",
        "outputId": "cb27bddd-4f3d-45d8-dd80-cbac36848164"
      },
      "execution_count": 2,
      "outputs": [
        {
          "output_type": "stream",
          "name": "stdout",
          "text": [
            "0\n",
            "0\n",
            "0\n",
            "1\n"
          ]
        }
      ]
    },
    {
      "cell_type": "markdown",
      "source": [
        "**가중치와 편향도입**"
      ],
      "metadata": {
        "id": "I3ij6dcZhw3_"
      }
    },
    {
      "cell_type": "code",
      "source": [
        "import numpy as np\n",
        "x=np.array([0,1]) # 입력\n",
        "w=np.array([0.5,0.5]) # 가중치\n",
        "b=-0.7 # 편향\n",
        "print(w*x)\n",
        "print(np.sum(w*x)) #np.sum() 메서드는 입력한 배열에 담긴 모든 원소의 총합을 계산 \n",
        "print(np.sum(w*x)+b) # 대략 -0.2 (부동소수점 수에 의한 연산 오차)"
      ],
      "metadata": {
        "colab": {
          "base_uri": "https://localhost:8080/"
        },
        "id": "o-VwgEJtho3l",
        "outputId": "90be9a02-2964-4c20-be02-14cf56cbee03"
      },
      "execution_count": 4,
      "outputs": [
        {
          "output_type": "stream",
          "name": "stdout",
          "text": [
            "[0.  0.5]\n",
            "0.5\n",
            "-0.19999999999999996\n"
          ]
        }
      ]
    },
    {
      "cell_type": "markdown",
      "source": [
        "**가중치와 편향 구현하기**"
      ],
      "metadata": {
        "id": "-1yKgIy1igyJ"
      }
    },
    {
      "cell_type": "code",
      "source": [
        "def AND(x1, x2):\n",
        "  x=np.array([x1,x2]) # 입력\n",
        "  w=np.array([0.5,0.5]) # 가중치\n",
        "  b=-0.7 # 편향\n",
        "  tmp=np.sum(w*x)+b\n",
        "  if tmp<=0:\n",
        "    return 0\n",
        "  else:\n",
        "    return 1"
      ],
      "metadata": {
        "id": "-d8fLJJaiiL8"
      },
      "execution_count": 5,
      "outputs": []
    },
    {
      "cell_type": "markdown",
      "source": [
        "\n",
        "*   w1 & w2는 입력신호가 결과에 주는 영향력(중요도)을 조절하는 매개변수\n",
        "*   편향은 뉴런이 얼마나 쉽게 활성화(결과로 1을 출력)하느냐를 조정하는 매개변수\n",
        "\n"
      ],
      "metadata": {
        "id": "jwowTaqCi2_B"
      }
    },
    {
      "cell_type": "code",
      "source": [
        "def NAND(x1,x2):\n",
        "  x=np.array([x1,x2])\n",
        "  w=np.array([-0.5,-0.5]) # AND랑 가중치(w와 b)만 다르다\n",
        "  b=0.7\n",
        "  tmp=np.sum(w*x)+b\n",
        "  if tmp<=0:\n",
        "    return 0\n",
        "  else:\n",
        "    return 1\n",
        "def OR(x1,x2):\n",
        "  x=np.array([x1,x2])\n",
        "  w=np.array([0.5,0.5]) # AND랑 가중치(w와 b)만 다르다\n",
        "  b=-0.2\n",
        "  tmp=np.sum(w*x)+b\n",
        "  if tmp<=0:\n",
        "    return 0\n",
        "  else:\n",
        "    return 1\n"
      ],
      "metadata": {
        "id": "n4tR5IP9igGn"
      },
      "execution_count": 15,
      "outputs": []
    },
    {
      "cell_type": "markdown",
      "source": [
        "##2.4 퍼셉트론의 한계"
      ],
      "metadata": {
        "id": "nuYqkSq6mMuR"
      }
    },
    {
      "cell_type": "markdown",
      "source": [
        " **도전! XOR게이트**\n",
        "\n",
        "*  한쪽이 1일때만 1을 출력\n",
        "*  비선형 영역: 직선의 영역으로 XOR게이트 구현 불가\n",
        "*  선형 영역: 곡선의 영역으로 XOR게이트 구현 가능\n",
        "\n",
        "\n",
        "\n",
        "\n",
        "\n",
        "\n"
      ],
      "metadata": {
        "id": "10SHM_wtmncT"
      }
    },
    {
      "cell_type": "markdown",
      "source": [
        "##2.5 다층 퍼셉트론이 출동한다면"
      ],
      "metadata": {
        "id": "onMY2D6jvZaB"
      }
    },
    {
      "cell_type": "markdown",
      "source": [
        " **퍼셉트론은 \"층을 쌓아\" 다층 퍼셉트론을 만들 수 있음**"
      ],
      "metadata": {
        "id": "XjXK5ohdw8iH"
      }
    },
    {
      "cell_type": "markdown",
      "source": [
        "**기존 게이트 조합하기**\n",
        "\n",
        "*   x1과 x2의 을 NAND와 OR게이트의 입력으로 NAND와 OR게이트의 출력은 AND게이트의 입력아 되도록 조합하면 XOR게이트를 만들 수 있음\n",
        "\n",
        "\n"
      ],
      "metadata": {
        "id": "JTgPBEQLw_AL"
      }
    },
    {
      "cell_type": "markdown",
      "source": [
        "  **XOR 게이트 구현하기**\n",
        "\n",
        "\n"
      ],
      "metadata": {
        "id": "p3ASQ88LzaxB"
      }
    },
    {
      "cell_type": "code",
      "source": [
        "def XOR(x1,x2):\n",
        "  s1 = NAND(x1,x2)\n",
        "  s2 = OR(x1,x1)\n",
        "  y = AND(s1,s2)\n",
        "  return y\n",
        "print(XOR(0,0)) \n",
        "print(XOR(1,0)) \n",
        "print(XOR(0,1)) \n",
        "print(XOR(1,1)) "
      ],
      "metadata": {
        "colab": {
          "base_uri": "https://localhost:8080/"
        },
        "id": "0VfVfGLSmNcZ",
        "outputId": "2c73e16e-a57a-4146-dcef-1098e8f5f4e3"
      },
      "execution_count": 16,
      "outputs": [
        {
          "output_type": "stream",
          "name": "stdout",
          "text": [
            "0\n",
            "1\n",
            "0\n",
            "0\n"
          ]
        }
      ]
    },
    {
      "cell_type": "markdown",
      "source": [
        "\n",
        "\n",
        "*   층이 여러개인 퍼셉트론을 다층 퍼셉트론이라고 함\n",
        "*   받은 입력을 가공해 다음 층으로 보냄\n",
        "\n"
      ],
      "metadata": {
        "id": "kCQWZCAT14nw"
      }
    },
    {
      "cell_type": "markdown",
      "source": [
        "##2.6 NAND에서 컴퓨터까지"
      ],
      "metadata": {
        "id": "st4MRyll2QXD"
      }
    },
    {
      "cell_type": "markdown",
      "source": [
        "\n",
        "\n",
        "*  NAND 게이트로 컴퓨터를 만들 수 있다\n",
        "*  퍼셉트론은 층을 거듭 쌓으면 비 선형적인 표현도, 이론상 컴퓨터가 수행하는 처리도 모두 가능함\n",
        "\n"
      ],
      "metadata": {
        "id": "FUZFFfNc2cjw"
      }
    },
    {
      "cell_type": "markdown",
      "source": [
        "##2.7 정리"
      ],
      "metadata": {
        "id": "2rjwDEqy2nx6"
      }
    },
    {
      "cell_type": "markdown",
      "source": [
        "\n",
        "\n",
        "\n",
        "\n",
        "\n",
        "\n",
        "\n",
        "\n",
        "*   퍼셉트론은 입출력을 갖춘 알고리즘이다. 입력을 주면 정해진 규칙에 따은 값을 출력한다\n",
        "*   퍼셉트론에서는 \"가중치\"와 \"편향\"을 매개변수로 설정한다.\n",
        "*   퍼셉트론으로 AND,OR 게이트 등의 논리 회로를 표현할 수 있다.\n",
        "*   XOR 게이트는 단층 퍼셉트론으로는 표현할 수 없다.\n",
        "*   2층 퍼셉트론을 이용하면 XOR 게이트를 표현할 수 있다.\n",
        "*   단층 퍼셉트론은 직선형 영역만 표현할 수 있고, 다층 퍼셉트론은 비선형 영역도 표현할 수 있다.\n",
        "*   다층 퍼셉트론은 (이론상) 컴퓨터를 만들 수 있다.\n",
        "\n",
        "\n",
        "\n",
        "\n",
        "\n",
        "\n",
        "\n"
      ],
      "metadata": {
        "id": "77o8jbiA2r2N"
      }
    },
    {
      "cell_type": "code",
      "source": [],
      "metadata": {
        "id": "-LUcERfazqiA"
      },
      "execution_count": null,
      "outputs": []
    }
  ]
}
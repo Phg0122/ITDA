{
  "nbformat": 4,
  "nbformat_minor": 0,
  "metadata": {
    "colab": {
      "provenance": []
    },
    "kernelspec": {
      "name": "python3",
      "display_name": "Python 3"
    },
    "language_info": {
      "name": "python"
    }
  },
  "cells": [
    {
      "cell_type": "code",
      "execution_count": 1,
      "metadata": {
        "colab": {
          "base_uri": "https://localhost:8080/"
        },
        "id": "uDnuNGaWeu6H",
        "outputId": "542de894-9e4f-4042-9489-3076819e583f"
      },
      "outputs": [
        {
          "output_type": "stream",
          "name": "stdout",
          "text": [
            "3\n",
            "짝\n"
          ]
        }
      ],
      "source": [
        "#코딩도장\n",
        "n = int(input())\n",
        "if n%3==0:\n",
        "    print('짝')\n",
        "else:\n",
        "    print(n)"
      ]
    },
    {
      "cell_type": "code",
      "source": [
        "n = input()\n",
        "list_n = list(n)\n",
        "print(list_n.count(' ')+1)"
      ],
      "metadata": {
        "colab": {
          "base_uri": "https://localhost:8080/"
        },
        "id": "mMv3lb5VezRx",
        "outputId": "a3337469-06af-47f2-c89a-7f614b1f124b"
      },
      "execution_count": 2,
      "outputs": [
        {
          "output_type": "stream",
          "name": "stdout",
          "text": [
            "안녕하세요 안녕하세요 안녕하세요\n",
            "3\n"
          ]
        }
      ]
    },
    {
      "cell_type": "code",
      "source": [
        "#딥러닝\n",
        "n = int(input())\n",
        "for i in range(1,10):\n",
        "    print(n*i, end=' ')"
      ],
      "metadata": {
        "colab": {
          "base_uri": "https://localhost:8080/"
        },
        "id": "V4QGhtH0e3kN",
        "outputId": "2bb26e6b-95c1-4238-fcd1-575acc6af234"
      },
      "execution_count": 3,
      "outputs": [
        {
          "output_type": "stream",
          "name": "stdout",
          "text": [
            "3\n",
            "3 6 9 12 15 18 21 24 27 "
          ]
        }
      ]
    },
    {
      "cell_type": "code",
      "source": [
        "a = ''\n",
        "b = 0\n",
        "for i in range(1, 101):\n",
        "    a += str(i)\n",
        "print(a)\n",
        "list_a = list(a)\n",
        "list_int = list(map(int, list_a))\n",
        "print(sum(list_int))"
      ],
      "metadata": {
        "colab": {
          "base_uri": "https://localhost:8080/"
        },
        "id": "XDTYIzINfDhz",
        "outputId": "ebf30a22-0b1f-49a8-d1a9-d660940354fb"
      },
      "execution_count": 4,
      "outputs": [
        {
          "output_type": "stream",
          "name": "stdout",
          "text": [
            "123456789101112131415161718192021222324252627282930313233343536373839404142434445464748495051525354555657585960616263646566676869707172737475767778798081828384858687888990919293949596979899100\n",
            "901\n"
          ]
        }
      ]
    },
    {
      "cell_type": "code",
      "source": [],
      "metadata": {
        "id": "FLURK8xWfIMX"
      },
      "execution_count": null,
      "outputs": []
    }
  ]
}